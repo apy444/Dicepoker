{
 "cells": [
  {
   "cell_type": "code",
   "execution_count": 1,
   "metadata": {},
   "outputs": [
    {
     "name": "stdout",
     "output_type": "stream",
     "text": [
      "\n",
      " o   o        o   o                     o                        \n",
      "   o          o   o          o            o            o         \n",
      " o   o        o   o                         o                    \n",
      "\n",
      "   a            b            c            d            e\n",
      "\n",
      "Melyiket szeretnéd újra dobni?abd\n",
      "\n",
      " o   o        o                         o   o                    \n",
      " o   o          o            o          o   o          o         \n",
      " o   o            o                     o   o                    \n",
      "\n",
      "   a            b            c            d            e\n",
      "\n",
      "Melyiket szeretnéd újra dobni?b\n",
      "\n",
      " o   o        o   o                     o   o                    \n",
      " o   o          o            o          o   o          o         \n",
      " o   o        o   o                     o   o                    \n",
      "\n",
      "   a            b            c            d            e\n"
     ]
    }
   ],
   "source": [
    "# -*- coding: utf-8 -*-\n",
    "\"\"\"\n",
    "Created on Fri Jan 12 11:34:04 2018\n",
    "\n",
    "@author: AndiGabi\n",
    "\"\"\"\n",
    "\n",
    "import time\n",
    "import random\n",
    "\n",
    "dice ={1:[\"     \",\"  o  \",\"     \"], 2:[\"o    \",\"     \",\"    o\"],\n",
    "       3:[\"o    \",\"  o  \",\"    o\"], 4:[\"o   o\",\"     \",\"o   o\"],\n",
    "       5:[\"o   o\",\"  o  \",\"o   o\"], 6:[\"o   o\",\"o   o\",\"o   o\"]}\n",
    "\n",
    "\n",
    "#This code will throw dicec, result stored in dict, where keys are a-e, values 1-6\n",
    "#The argument is also a dict, in case, there is a previous result, \n",
    "#and this code chancd Docdge dices entered by the player\n",
    "def throw(throw = {}):\n",
    "    if throw == {}: #This is the initial throw, where dict is empty\n",
    "        throw = {i:random.randrange(1,7) for i in 'abcde'}\n",
    "    else: #This happen when there is a previous result of throw()\n",
    "        change = input(\"\\nWhich dices to throw again?\")\n",
    "        for i in throw:\n",
    "            if i in change:\n",
    "                throw[i]=random.randrange(1,7)\n",
    "    draw(throw) #The code draw the dices by calling draw() function\n",
    "    return throw\n",
    "\n",
    "#This function prints out the dices. The shape of dices stored in dice argumentum\n",
    "def draw(throw):\n",
    "    nums = [throw[i] for i in \"abcde\"]\n",
    "    time.sleep(2)\n",
    "    print(\"\")\n",
    "    for y in range(0,3):\n",
    "        for x in nums:\n",
    "            print(\"\",dice[x][y],\"      \", end=\"\")\n",
    "        print(\"\")\n",
    "    print(\"\")\n",
    "    print(\"   a            b            c            d            e\")\n",
    "\n",
    "\n",
    "first_throw = throw()\n",
    "sec_throw = throw(first_throw)\n",
    "third_throw = throw(sec_throw)\n"
   ]
  },
  {
   "cell_type": "code",
   "execution_count": null,
   "metadata": {
    "collapsed": true
   },
   "outputs": [],
   "source": []
  }
 ],
 "metadata": {
  "kernelspec": {
   "display_name": "Python 3",
   "language": "python",
   "name": "python3"
  },
  "language_info": {
   "codemirror_mode": {
    "name": "ipython",
    "version": 3
   },
   "file_extension": ".py",
   "mimetype": "text/x-python",
   "name": "python",
   "nbconvert_exporter": "python",
   "pygments_lexer": "ipython3",
   "version": "3.6.3"
  }
 },
 "nbformat": 4,
 "nbformat_minor": 2
}
